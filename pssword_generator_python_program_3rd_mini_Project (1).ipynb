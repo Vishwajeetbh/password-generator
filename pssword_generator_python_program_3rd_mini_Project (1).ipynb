{
 "cells": [
  {
   "cell_type": "code",
   "execution_count": null,
   "id": "17469e6b",
   "metadata": {},
   "outputs": [],
   "source": [
    "# 1 st method without taking user input"
   ]
  },
  {
   "cell_type": "code",
   "execution_count": 4,
   "id": "ffc26443",
   "metadata": {},
   "outputs": [],
   "source": [
    "import string\n",
    "import random"
   ]
  },
  {
   "cell_type": "code",
   "execution_count": 15,
   "id": "c1e6da2f",
   "metadata": {},
   "outputs": [],
   "source": [
    "def generate_password(length):\n",
    "    charac = string.ascii_letters + string.punctuation + string.digits\n",
    "    return ''.join(random.choice(charac) \n",
    "                   for _ in range(length))"
   ]
  },
  {
   "cell_type": "code",
   "execution_count": 16,
   "id": "42c48ce2",
   "metadata": {},
   "outputs": [],
   "source": [
    "password_length = 5\n",
    "random_password = generate_password(password_length)"
   ]
  },
  {
   "cell_type": "code",
   "execution_count": 17,
   "id": "704123b5",
   "metadata": {},
   "outputs": [
    {
     "name": "stdout",
     "output_type": "stream",
     "text": [
      "Random Password: &ZZ_y\n"
     ]
    }
   ],
   "source": [
    "print(\"Random Password:\" , random_password)"
   ]
  },
  {
   "cell_type": "code",
   "execution_count": 9,
   "id": "52a7db3f",
   "metadata": {},
   "outputs": [],
   "source": [
    "# 2nd method by taking user input "
   ]
  },
  {
   "cell_type": "code",
   "execution_count": 5,
   "id": "16fb5a76",
   "metadata": {},
   "outputs": [],
   "source": [
    "import random\n",
    "import string"
   ]
  },
  {
   "cell_type": "code",
   "execution_count": 6,
   "id": "9c04e110",
   "metadata": {},
   "outputs": [
    {
     "name": "stdout",
     "output_type": "stream",
     "text": [
      "Enter the length of the password: 10\n"
     ]
    }
   ],
   "source": [
    "password_length = int(input(\"Enter the length of the password: \"))"
   ]
  },
  {
   "cell_type": "code",
   "execution_count": 7,
   "id": "dde0f2a6",
   "metadata": {},
   "outputs": [],
   "source": [
    "random_password = ''.join(random.choice(string.ascii_letters + string.digits + string.punctuation) \n",
    "                          for _ in range(password_length))"
   ]
  },
  {
   "cell_type": "code",
   "execution_count": 8,
   "id": "2ecc44f7",
   "metadata": {},
   "outputs": [
    {
     "name": "stdout",
     "output_type": "stream",
     "text": [
      "Random Password: 'jNU#GSz}H\n"
     ]
    }
   ],
   "source": [
    "print(\"Random Password:\", random_password)"
   ]
  },
  {
   "cell_type": "code",
   "execution_count": 10,
   "id": "4dc4acfd",
   "metadata": {},
   "outputs": [],
   "source": []
  },
  {
   "cell_type": "code",
   "execution_count": null,
   "id": "e1c36f43",
   "metadata": {},
   "outputs": [],
   "source": []
  },
  {
   "cell_type": "code",
   "execution_count": null,
   "id": "d73a5078",
   "metadata": {},
   "outputs": [],
   "source": []
  }
 ],
 "metadata": {
  "kernelspec": {
   "display_name": "Python 3 (ipykernel)",
   "language": "python",
   "name": "python3"
  },
  "language_info": {
   "codemirror_mode": {
    "name": "ipython",
    "version": 3
   },
   "file_extension": ".py",
   "mimetype": "text/x-python",
   "name": "python",
   "nbconvert_exporter": "python",
   "pygments_lexer": "ipython3",
   "version": "3.9.13"
  }
 },
 "nbformat": 4,
 "nbformat_minor": 5
}
